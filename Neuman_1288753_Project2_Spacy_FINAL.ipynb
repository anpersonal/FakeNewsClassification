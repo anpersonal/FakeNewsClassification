{
 "cells": [
  {
   "cell_type": "markdown",
   "id": "7c14ea64",
   "metadata": {},
   "source": [
    "This code runs nicely locally."
   ]
  },
  {
   "cell_type": "code",
   "execution_count": 110,
   "id": "2cd51e58-9ec7-4a89-a667-67eddf21e734",
   "metadata": {},
   "outputs": [],
   "source": [
    "# Pretty much all of this code is recycled from the course notes with slight modifications.\n",
    "# I wanted to thank the Professor for providing the excellent notes.\n",
    "# What follows is an introductory adventure through data exploration, preprocessing, and embedding."
   ]
  },
  {
   "cell_type": "code",
   "execution_count": 102,
   "id": "de7f1a20-aa37-4e62-936e-366afc8c6a94",
   "metadata": {},
   "outputs": [],
   "source": [
    "# Import Spacy and pandas\n",
    "import spacy\n",
    "import pandas as pd\n",
    "\n",
    "# Load the spaCy model\n",
    "nlp = spacy.load('en_core_web_lg')"
   ]
  },
  {
   "cell_type": "code",
   "execution_count": 103,
   "id": "e92d231b-9786-4227-85ce-82dce432f00f",
   "metadata": {},
   "outputs": [],
   "source": [
    "#Load the full data set into the variable data\n",
    "data = pd.read_csv('WELFake_Dataset.csv', header = 0)"
   ]
  },
  {
   "cell_type": "code",
   "execution_count": 104,
   "id": "cbd17d0d-200a-49ba-b1ef-ddef1757df25",
   "metadata": {},
   "outputs": [],
   "source": [
    "# For this project we only need a sample size of 4000-5000. So lets reduce the size of our sample.\n",
    "data = data[:5000]"
   ]
  },
  {
   "cell_type": "code",
   "execution_count": 105,
   "id": "1f1af940-c5c8-49ea-8163-08da78df6b2a",
   "metadata": {},
   "outputs": [
    {
     "name": "stdout",
     "output_type": "stream",
     "text": [
      "Percentage that are true:  0.5256\n",
      "Percentage that are false:  0.47440000000000004\n"
     ]
    }
   ],
   "source": [
    "# Percentage that are true\n",
    "true_percentage = data['label'].sum()/data['label'].count()\n",
    "\n",
    "print(\"Percentage that are true: \", true_percentage)\n",
    "print(\"Percentage that are false: \", (1-true_percentage))"
   ]
  },
  {
   "cell_type": "code",
   "execution_count": 106,
   "id": "4aad6350-3af4-4087-8859-c7fc3fd8aa5a",
   "metadata": {},
   "outputs": [],
   "source": [
    "# For this project we are only interested in the text, not the labels, or titles so we will remove all the unnecesary information\n",
    "data = data.drop(['Unnamed: 0','title'], axis=1)\n"
   ]
  },
  {
   "cell_type": "code",
   "execution_count": 107,
   "id": "68f5f4ac-6ed2-4d55-9ae8-161694a3f18b",
   "metadata": {},
   "outputs": [
    {
     "data": {
      "text/html": [
       "<div>\n",
       "<style scoped>\n",
       "    .dataframe tbody tr th:only-of-type {\n",
       "        vertical-align: middle;\n",
       "    }\n",
       "\n",
       "    .dataframe tbody tr th {\n",
       "        vertical-align: top;\n",
       "    }\n",
       "\n",
       "    .dataframe thead th {\n",
       "        text-align: right;\n",
       "    }\n",
       "</style>\n",
       "<table border=\"1\" class=\"dataframe\">\n",
       "  <thead>\n",
       "    <tr style=\"text-align: right;\">\n",
       "      <th></th>\n",
       "      <th>text</th>\n",
       "      <th>label</th>\n",
       "    </tr>\n",
       "  </thead>\n",
       "  <tbody>\n",
       "    <tr>\n",
       "      <th>0</th>\n",
       "      <td>No comment is expected from Barack Obama Membe...</td>\n",
       "      <td>1</td>\n",
       "    </tr>\n",
       "    <tr>\n",
       "      <th>1</th>\n",
       "      <td>Did they post their votes for Hillary already?</td>\n",
       "      <td>1</td>\n",
       "    </tr>\n",
       "    <tr>\n",
       "      <th>2</th>\n",
       "      <td>Now, most of the demonstrators gathered last ...</td>\n",
       "      <td>1</td>\n",
       "    </tr>\n",
       "    <tr>\n",
       "      <th>3</th>\n",
       "      <td>A dozen politically active pastors came here f...</td>\n",
       "      <td>0</td>\n",
       "    </tr>\n",
       "    <tr>\n",
       "      <th>4</th>\n",
       "      <td>The RS-28 Sarmat missile, dubbed Satan 2, will...</td>\n",
       "      <td>1</td>\n",
       "    </tr>\n",
       "  </tbody>\n",
       "</table>\n",
       "</div>"
      ],
      "text/plain": [
       "                                                text  label\n",
       "0  No comment is expected from Barack Obama Membe...      1\n",
       "1     Did they post their votes for Hillary already?      1\n",
       "2   Now, most of the demonstrators gathered last ...      1\n",
       "3  A dozen politically active pastors came here f...      0\n",
       "4  The RS-28 Sarmat missile, dubbed Satan 2, will...      1"
      ]
     },
     "execution_count": 107,
     "metadata": {},
     "output_type": "execute_result"
    }
   ],
   "source": [
    "# Inspect the first few elements of what remains\n",
    "data.head()"
   ]
  },
  {
   "cell_type": "code",
   "execution_count": 108,
   "id": "f76e6252-16c0-4bcf-8098-6a2df0c8dc9b",
   "metadata": {},
   "outputs": [],
   "source": [
    "# Store all the news articles in an array of docs called docs.\n",
    "docs = []\n",
    "for doc in data['text']:\n",
    "    docs.append(doc)"
   ]
  },
  {
   "cell_type": "code",
   "execution_count": 109,
   "id": "5fe01ced-a4fb-4fb7-ac09-16b174a08121",
   "metadata": {},
   "outputs": [
    {
     "name": "stdout",
     "output_type": "stream",
     "text": [
      "Original Text is: The last night, many people celebrate with thier HI trump friends Trump in the Halloween party.\n",
      "tokens_cleaned: night people celebrate thier HI trump friend Trump Halloween party\n"
     ]
    }
   ],
   "source": [
    "# This is the processing stream from project 1\n",
    "def preprocessing2(text):\n",
    "    \n",
    "    doc = nlp(str(text))\n",
    "\n",
    "    tokens_clean = []\n",
    "\n",
    "    # For each token\n",
    "    for token in doc:\n",
    "\n",
    "        #Remove stop words, digits, and spaces, punctuation.\n",
    "        if ((((not token.is_stop) and (not token.is_digit)) and (not token.is_space)) and (not token.is_punct)):\n",
    "\n",
    "            # https://stackoverflow.com/questions/63283128/how-determine-if-a-token-is-part-of-an-entity-within-spacy\n",
    "            # Info about named ent\n",
    "            # Lowercase if it is not a named entity\n",
    "            if (token.ent_type_ != \"\"):\n",
    "            \n",
    "                #If the token is a named entity then we can safetly append it.\n",
    "                tokens_clean.append(token.lemma_)\n",
    "\n",
    "            else:\n",
    "\n",
    "                #If the token is not a named entity then we can lemmatize it\n",
    "                tokens_clean.append(token.lemma_)\n",
    "            \n",
    "            \n",
    "    \n",
    "    tokens_clean = ' '.join(tokens_clean)\n",
    "    \n",
    "    return tokens_clean   \n",
    "\n",
    "\n",
    "# Write a function to do lmmatization, tokenization, named_entity recognition, and depencencies\n",
    "text = 'The last night, many people celebrate with thier HI trump friends Trump in the Halloween party.'\n",
    "tokens_cleaned = preprocessing2(text)\n",
    "print('Original Text is:', text)\n",
    "print('tokens_cleaned:', tokens_cleaned)"
   ]
  },
  {
   "cell_type": "code",
   "execution_count": 110,
   "id": "fbacd9cd",
   "metadata": {},
   "outputs": [],
   "source": [
    "# This will create a new column of clean text\n",
    "for i in range(len(data['text'])):\n",
    "\n",
    "    data.loc[i, 'clean'] = preprocessing2(data.loc[i , 'text'])"
   ]
  },
  {
   "cell_type": "code",
   "execution_count": 80,
   "id": "249aefc4",
   "metadata": {},
   "outputs": [
    {
     "data": {
      "text/html": [
       "<div>\n",
       "<style scoped>\n",
       "    .dataframe tbody tr th:only-of-type {\n",
       "        vertical-align: middle;\n",
       "    }\n",
       "\n",
       "    .dataframe tbody tr th {\n",
       "        vertical-align: top;\n",
       "    }\n",
       "\n",
       "    .dataframe thead th {\n",
       "        text-align: right;\n",
       "    }\n",
       "</style>\n",
       "<table border=\"1\" class=\"dataframe\">\n",
       "  <thead>\n",
       "    <tr style=\"text-align: right;\">\n",
       "      <th></th>\n",
       "      <th>text</th>\n",
       "      <th>label</th>\n",
       "      <th>clean</th>\n",
       "    </tr>\n",
       "  </thead>\n",
       "  <tbody>\n",
       "    <tr>\n",
       "      <th>0</th>\n",
       "      <td>No comment is expected from Barack Obama Membe...</td>\n",
       "      <td>1</td>\n",
       "      <td>comment expect Barack Obama Members FYF911 fuk...</td>\n",
       "    </tr>\n",
       "    <tr>\n",
       "      <th>1</th>\n",
       "      <td>Did they post their votes for Hillary already?</td>\n",
       "      <td>1</td>\n",
       "      <td>post vote Hillary</td>\n",
       "    </tr>\n",
       "    <tr>\n",
       "      <th>2</th>\n",
       "      <td>Now, most of the demonstrators gathered last ...</td>\n",
       "      <td>1</td>\n",
       "      <td>demonstrator gather night exercise constitutio...</td>\n",
       "    </tr>\n",
       "    <tr>\n",
       "      <th>3</th>\n",
       "      <td>A dozen politically active pastors came here f...</td>\n",
       "      <td>0</td>\n",
       "      <td>dozen politically active pastor come private d...</td>\n",
       "    </tr>\n",
       "    <tr>\n",
       "      <th>4</th>\n",
       "      <td>The RS-28 Sarmat missile, dubbed Satan 2, will...</td>\n",
       "      <td>1</td>\n",
       "      <td>rs-28 Sarmat missile dub Satan replace SS-18 f...</td>\n",
       "    </tr>\n",
       "    <tr>\n",
       "      <th>...</th>\n",
       "      <td>...</td>\n",
       "      <td>...</td>\n",
       "      <td>...</td>\n",
       "    </tr>\n",
       "    <tr>\n",
       "      <th>4995</th>\n",
       "      <td>DHAKA (Reuters) - Bangladesh is seeking intern...</td>\n",
       "      <td>0</td>\n",
       "      <td>DHAKA Reuters Bangladesh seek international su...</td>\n",
       "    </tr>\n",
       "    <tr>\n",
       "      <th>4996</th>\n",
       "      <td>WASHINGTON (Reuters) - The Republican chairman...</td>\n",
       "      <td>0</td>\n",
       "      <td>WASHINGTON Reuters republican chairman U.S. Fe...</td>\n",
       "    </tr>\n",
       "    <tr>\n",
       "      <th>4997</th>\n",
       "      <td>Posted 10/31/2016 2:37 pm by PatriotRising wit...</td>\n",
       "      <td>1</td>\n",
       "      <td>post 10/31/2016 2:37 pm patriotrise comment Cl...</td>\n",
       "    </tr>\n",
       "    <tr>\n",
       "      <th>4998</th>\n",
       "      <td>Oregon Standoff Leaders Acquitted For Malheur ...</td>\n",
       "      <td>1</td>\n",
       "      <td>Oregon Standoff leader acquit Malheur Wildlife...</td>\n",
       "    </tr>\n",
       "    <tr>\n",
       "      <th>4999</th>\n",
       "      <td>SEOUL (Reuters) - Plans for the first contact ...</td>\n",
       "      <td>0</td>\n",
       "      <td>SEOUL Reuters plan contact North Korea United ...</td>\n",
       "    </tr>\n",
       "  </tbody>\n",
       "</table>\n",
       "<p>5000 rows × 3 columns</p>\n",
       "</div>"
      ],
      "text/plain": [
       "                                                   text  label  \\\n",
       "0     No comment is expected from Barack Obama Membe...      1   \n",
       "1        Did they post their votes for Hillary already?      1   \n",
       "2      Now, most of the demonstrators gathered last ...      1   \n",
       "3     A dozen politically active pastors came here f...      0   \n",
       "4     The RS-28 Sarmat missile, dubbed Satan 2, will...      1   \n",
       "...                                                 ...    ...   \n",
       "4995  DHAKA (Reuters) - Bangladesh is seeking intern...      0   \n",
       "4996  WASHINGTON (Reuters) - The Republican chairman...      0   \n",
       "4997  Posted 10/31/2016 2:37 pm by PatriotRising wit...      1   \n",
       "4998  Oregon Standoff Leaders Acquitted For Malheur ...      1   \n",
       "4999  SEOUL (Reuters) - Plans for the first contact ...      0   \n",
       "\n",
       "                                                  clean  \n",
       "0     comment expect Barack Obama Members FYF911 fuk...  \n",
       "1                                     post vote Hillary  \n",
       "2     demonstrator gather night exercise constitutio...  \n",
       "3     dozen politically active pastor come private d...  \n",
       "4     rs-28 Sarmat missile dub Satan replace SS-18 f...  \n",
       "...                                                 ...  \n",
       "4995  DHAKA Reuters Bangladesh seek international su...  \n",
       "4996  WASHINGTON Reuters republican chairman U.S. Fe...  \n",
       "4997  post 10/31/2016 2:37 pm patriotrise comment Cl...  \n",
       "4998  Oregon Standoff leader acquit Malheur Wildlife...  \n",
       "4999  SEOUL Reuters plan contact North Korea United ...  \n",
       "\n",
       "[5000 rows x 3 columns]"
      ]
     },
     "execution_count": 80,
     "metadata": {},
     "output_type": "execute_result"
    }
   ],
   "source": [
    "data.head()"
   ]
  },
  {
   "cell_type": "code",
   "execution_count": 111,
   "id": "be20de44",
   "metadata": {},
   "outputs": [],
   "source": [
    "# Store the labels and cleaned documens in arrays for ease of access\n",
    "labels = []\n",
    "cleaned = []\n",
    "\n",
    "for i in range(len(data)):\n",
    "\n",
    "    labels.append(data.loc[i, 'label'])\n",
    "    cleaned.append(data.loc[i, 'clean'])"
   ]
  },
  {
   "cell_type": "code",
   "execution_count": 112,
   "id": "a12320fb",
   "metadata": {},
   "outputs": [
    {
     "data": {
      "text/plain": [
       "1"
      ]
     },
     "execution_count": 112,
     "metadata": {},
     "output_type": "execute_result"
    }
   ],
   "source": [
    "# This is where project2 begins\n",
    "from spacy.pipeline.textcat import Config, single_label_cnn_config\n",
    "from spacy.training.example import Example\n",
    "from spacy.util import minibatch\n",
    "import random\n",
    "\n",
    "# Load a spaCy model\n",
    "nlp = spacy.blank(\"en\")  # Start with a blank English model\n",
    "\n",
    "# This is out of the text classification notes from class\n",
    "# Add the text categorization component\n",
    "config = Config().from_str(single_label_cnn_config)  # Example config for single label classification\n",
    "textcat = nlp.add_pipe(\"textcat\", config=config, last=True)\n",
    "textcat.add_label(\"FAKE\")\n",
    "textcat.add_label(\"REAL\")"
   ]
  },
  {
   "cell_type": "code",
   "execution_count": 113,
   "id": "c0646a79",
   "metadata": {},
   "outputs": [],
   "source": [
    "# 0 is fake, 1 is real"
   ]
  },
  {
   "cell_type": "code",
   "execution_count": 114,
   "id": "355f4c7c",
   "metadata": {},
   "outputs": [],
   "source": [
    "# This code will take the cleaned text, and labels and format it correctly for spacy\n",
    "\n",
    "train_data = []\n",
    "\n",
    "for i in range(len(cleaned)):\n",
    "    \n",
    "    text = cleaned[i]\n",
    "    label = labels[i]\n",
    "    #print(text)\n",
    "    #print(label)\n",
    "    \n",
    "    if (label == 1):\n",
    "        \n",
    "        cats = {\"cats\": {\"FAKE\": 0, \"REAL\": 1}}\n",
    "        \n",
    "    elif (label == 0):\n",
    "        \n",
    "        cats = {\"cats\": {\"FAKE\": 1, \"REAL\": 0}}\n",
    "        \n",
    "    #print(cats)\n",
    "    \n",
    "    train = (text, cats)\n",
    "    \n",
    "    #print(train)\n",
    "    \n",
    "    train_data.append(train)\n",
    "    \n",
    "    "
   ]
  },
  {
   "cell_type": "code",
   "execution_count": 115,
   "id": "2fde6f9c",
   "metadata": {},
   "outputs": [],
   "source": [
    "# Seperate the training and testing data\n",
    "# traininging data contains the first 4000 records\n",
    "# testing data contains the last 1000 records\n",
    "test_data = train_data[4000:]\n",
    "train_data = train_data[:4000]"
   ]
  },
  {
   "cell_type": "code",
   "execution_count": 116,
   "id": "33122fa2",
   "metadata": {},
   "outputs": [
    {
     "data": {
      "text/plain": [
       "4000"
      ]
     },
     "execution_count": 116,
     "metadata": {},
     "output_type": "execute_result"
    }
   ],
   "source": [
    "len(train_data)"
   ]
  },
  {
   "cell_type": "code",
   "execution_count": 117,
   "id": "e579c0c8",
   "metadata": {},
   "outputs": [
    {
     "data": {
      "text/plain": [
       "1000"
      ]
     },
     "execution_count": 117,
     "metadata": {},
     "output_type": "execute_result"
    }
   ],
   "source": [
    "len(test_data)"
   ]
  },
  {
   "cell_type": "code",
   "execution_count": 118,
   "id": "e7a66f76",
   "metadata": {},
   "outputs": [],
   "source": [
    "# This is out of the course notes its just code for setting up and running the spacy text classification \n",
    "\n",
    "def nn_spacy(num_epochs, batch_size, data_train):\n",
    "    \n",
    "    random.shuffle(data_train)\n",
    "    \n",
    "    # Training the text categorization model\n",
    "    optimizer = nlp.initialize()\n",
    "    tot_loss = []\n",
    "    for epoch in range(num_epochs):  # Number of training epochs\n",
    "        losses = {}\n",
    "        batches = minibatch(data_train, size=batch_size)\n",
    "        for batch in batches:\n",
    "            examples = [Example.from_dict(nlp.make_doc(text), annotations) for text, annotations in batch]\n",
    "            nlp.update(examples, drop=0.5, losses=losses, sgd=optimizer)\n",
    "        print(\"Epoch: \", epoch, \"Loss: \", losses['textcat'])\n",
    "        tot_loss.append(losses['textcat'])\n",
    "\n",
    "    return tot_loss, nlp"
   ]
  },
  {
   "cell_type": "code",
   "execution_count": 119,
   "id": "d49c6118",
   "metadata": {},
   "outputs": [
    {
     "name": "stdout",
     "output_type": "stream",
     "text": [
      "Epoch:  0 Loss:  43.123623203486204\n",
      "Epoch:  1 Loss:  26.9800122466404\n",
      "Epoch:  2 Loss:  18.625482797629957\n",
      "Epoch:  3 Loss:  16.5266630240003\n",
      "Epoch:  4 Loss:  14.401819896433153\n",
      "Epoch:  5 Loss:  12.553405070967528\n",
      "Epoch:  6 Loss:  10.702070644534949\n",
      "Epoch:  7 Loss:  8.773638045174238\n",
      "Epoch:  8 Loss:  8.164273936025719\n",
      "Epoch:  9 Loss:  8.33875596048994\n",
      "Epoch:  10 Loss:  7.809038201063151\n",
      "Epoch:  11 Loss:  6.301050900091797\n",
      "Epoch:  12 Loss:  6.073519174901499\n",
      "Epoch:  13 Loss:  4.718709523088513\n",
      "Epoch:  14 Loss:  5.343230082725389\n",
      "Epoch:  15 Loss:  4.524095178591638\n",
      "Epoch:  16 Loss:  4.164050819505827\n",
      "Epoch:  17 Loss:  2.9783354362271908\n",
      "Epoch:  18 Loss:  3.1172343651143284\n",
      "Epoch:  19 Loss:  3.0418694256635774\n"
     ]
    }
   ],
   "source": [
    "# Run the above model with 20 epochs, and batch size 16\n",
    "tot_loss, nlp =  nn_spacy(20, 16, train_data)"
   ]
  },
  {
   "cell_type": "code",
   "execution_count": 127,
   "id": "e8b9e3e2",
   "metadata": {},
   "outputs": [
    {
     "data": {
      "text/plain": [
       "Text(0, 0.5, 'Loss')"
      ]
     },
     "execution_count": 127,
     "metadata": {},
     "output_type": "execute_result"
    },
    {
     "data": {
      "image/png": "[encoded data removed]",
      "text/plain": [
       "<Figure size 640x480 with 1 Axes>"
      ]
     },
     "metadata": {},
     "output_type": "display_data"
    }
   ],
   "source": [
    "# Print the resulting total loss\n",
    "# https://www.w3schools.com/python/matplotlib_plotting.asp\n",
    "\n",
    "import matplotlib.pyplot as plt\n",
    "\n",
    "# 4 epochs\n",
    "epochs = [i for i in range(20)]\n",
    "\n",
    "plt.plot(epochs, tot_loss)\n",
    "plt.title(\"Run 1: 20 Epoch, 16 Batch Size\")\n",
    "plt.xlabel(\"Epoch\")\n",
    "plt.ylabel(\"Loss\")"
   ]
  },
  {
   "cell_type": "code",
   "execution_count": 124,
   "id": "b883b596",
   "metadata": {},
   "outputs": [],
   "source": [
    "# This is out of inclass activity 2\n",
    "# It essentially just calculates the accuracy\n",
    "\n",
    "def find_marked_categories(cat_dict):\n",
    "    marked_categories = [category for category, value in cat_dict['cats'].items() if value == 1]\n",
    "    return marked_categories[0]\n",
    "\n",
    "\n",
    "def predict_and_evaluate(model, test_data):\n",
    "    correct_predictions = 0\n",
    "    predictions = []\n",
    "    \n",
    "    for text, true_labels in test_data:\n",
    "        doc = model(text)\n",
    "        prediction = doc.cats\n",
    "        \n",
    "        #print(doc.cats)\n",
    "        \n",
    "        highest_category = max(prediction, key=prediction.get)\n",
    "        \n",
    "        #print(highest_category)\n",
    "        \n",
    "        if find_marked_categories(true_labels) == highest_category:\n",
    "            correct_predictions += 1\n",
    "\n",
    "    return correct_predictions/len(test_data)\n"
   ]
  },
  {
   "cell_type": "code",
   "execution_count": 125,
   "id": "25fc0931",
   "metadata": {},
   "outputs": [
    {
     "name": "stdout",
     "output_type": "stream",
     "text": [
      "0.856\n"
     ]
    }
   ],
   "source": [
    "# Print the accuracy of the above model\n",
    "\n",
    "accuracy = predict_and_evaluate(nlp, test_data)\n",
    "print(accuracy)"
   ]
  },
  {
   "cell_type": "code",
   "execution_count": 126,
   "id": "eb9c3e58",
   "metadata": {},
   "outputs": [
    {
     "name": "stdout",
     "output_type": "stream",
     "text": [
      "Epoch:  0 Loss:  23.985561940819025\n",
      "Epoch:  1 Loss:  14.61164697445929\n",
      "Epoch:  2 Loss:  11.371415995061398\n",
      "Epoch:  3 Loss:  9.953383424319327\n",
      "Epoch:  4 Loss:  8.72553485375829\n",
      "Epoch:  5 Loss:  7.192573974840343\n",
      "Epoch:  6 Loss:  6.854784965282306\n",
      "Epoch:  7 Loss:  7.407409028412076\n",
      "Epoch:  8 Loss:  6.410981925291708\n",
      "Epoch:  9 Loss:  6.504637277936126\n",
      "Epoch:  10 Loss:  4.192364089387411\n",
      "Epoch:  11 Loss:  3.6130747555287144\n",
      "Epoch:  12 Loss:  4.749707789263994\n",
      "Epoch:  13 Loss:  3.8757355334873864\n",
      "Epoch:  14 Loss:  3.78777693843017\n",
      "Epoch:  15 Loss:  3.4208840244591556\n",
      "Epoch:  16 Loss:  3.3741247544785438\n",
      "Epoch:  17 Loss:  2.2836178583183084\n",
      "Epoch:  18 Loss:  2.6598182866566855\n",
      "Epoch:  19 Loss:  1.8466944829907064\n"
     ]
    }
   ],
   "source": [
    "# Run the second model with 20 epochs, batch size of 32\n",
    "tot_loss2, nlp2 =  nn_spacy(20, 32, train_data)"
   ]
  },
  {
   "cell_type": "code",
   "execution_count": 129,
   "id": "cc4f1883",
   "metadata": {},
   "outputs": [
    {
     "data": {
      "text/plain": [
       "[<matplotlib.lines.Line2D at 0x220d534ee40>]"
      ]
     },
     "execution_count": 129,
     "metadata": {},
     "output_type": "execute_result"
    },
    {
     "data": {
      "image/png": "[encoded data removed]",
      "text/plain": [
       "<Figure size 640x480 with 1 Axes>"
      ]
     },
     "metadata": {},
     "output_type": "display_data"
    }
   ],
   "source": [
    "# Plot the loss of the second model\n",
    "\n",
    "# https://www.w3schools.com/python/matplotlib_plotting.asp\n",
    "\n",
    "import matplotlib.pyplot as plt\n",
    "\n",
    "# 4 epochs\n",
    "epochs = [i for i in range(20)]\n",
    "\n",
    "plt.plot(epochs, tot_loss2)"
   ]
  },
  {
   "cell_type": "code",
   "execution_count": 130,
   "id": "d012b9c2",
   "metadata": {},
   "outputs": [
    {
     "name": "stdout",
     "output_type": "stream",
     "text": [
      "0.853\n"
     ]
    }
   ],
   "source": [
    "# Plot the accuracy of the second model\n",
    "\n",
    "accuracy2 = predict_and_evaluate(nlp2, test_data)\n",
    "print(accuracy2)"
   ]
  },
  {
   "cell_type": "code",
   "execution_count": 131,
   "id": "2e004866",
   "metadata": {},
   "outputs": [
    {
     "name": "stdout",
     "output_type": "stream",
     "text": [
      "Epoch:  0 Loss:  44.09535074606538\n",
      "Epoch:  1 Loss:  25.807176963193342\n",
      "Epoch:  2 Loss:  21.15216673631221\n",
      "Epoch:  3 Loss:  18.041114428891888\n",
      "Epoch:  4 Loss:  14.925335623764568\n",
      "Epoch:  5 Loss:  13.04540546385033\n",
      "Epoch:  6 Loss:  11.277485004491808\n",
      "Epoch:  7 Loss:  9.649325501790965\n",
      "Epoch:  8 Loss:  8.416979542371807\n",
      "Epoch:  9 Loss:  7.401119018756269\n",
      "Epoch:  10 Loss:  7.510559135175555\n",
      "Epoch:  11 Loss:  6.70186527045404\n",
      "Epoch:  12 Loss:  5.783525596305652\n",
      "Epoch:  13 Loss:  6.429969282061897\n",
      "Epoch:  14 Loss:  5.561238151199545\n",
      "Epoch:  15 Loss:  5.1231643174967285\n",
      "Epoch:  16 Loss:  4.554996934186153\n",
      "Epoch:  17 Loss:  3.614915483236781\n",
      "Epoch:  18 Loss:  2.856896684793402\n",
      "Epoch:  19 Loss:  2.8320595233633385\n",
      "Epoch:  20 Loss:  3.278129762986974\n",
      "Epoch:  21 Loss:  3.806234324225139\n",
      "Epoch:  22 Loss:  2.774676028236441\n",
      "Epoch:  23 Loss:  2.6894096173792668\n",
      "Epoch:  24 Loss:  2.7323915134053154\n"
     ]
    }
   ],
   "source": [
    "# Run the third model with 25 epochs, 16 batch size\n",
    "tot_loss3, nlp3 =  nn_spacy(25, 16, train_data)"
   ]
  },
  {
   "cell_type": "code",
   "execution_count": 132,
   "id": "1d558edd",
   "metadata": {},
   "outputs": [
    {
     "data": {
      "text/plain": [
       "[<matplotlib.lines.Line2D at 0x220cc895280>]"
      ]
     },
     "execution_count": 132,
     "metadata": {},
     "output_type": "execute_result"
    },
    {
     "data": {
      "image/png": "[encoded data removed]",
      "text/plain": [
       "<Figure size 640x480 with 1 Axes>"
      ]
     },
     "metadata": {},
     "output_type": "display_data"
    }
   ],
   "source": [
    "# plot the loss function of the third model\n",
    "\n",
    "# https://www.w3schools.com/python/matplotlib_plotting.asp\n",
    "\n",
    "import matplotlib.pyplot as plt\n",
    "\n",
    "# 4 epochs\n",
    "epochs = [i for i in range(25)]\n",
    "\n",
    "plt.plot(epochs, tot_loss3)"
   ]
  },
  {
   "cell_type": "code",
   "execution_count": 133,
   "id": "fa6c99ea",
   "metadata": {},
   "outputs": [
    {
     "name": "stdout",
     "output_type": "stream",
     "text": [
      "0.866\n"
     ]
    }
   ],
   "source": [
    "# Get the accuracy of the third model\n",
    "accuracy3 = predict_and_evaluate(nlp3, test_data)\n",
    "print(accuracy3)"
   ]
  },
  {
   "cell_type": "code",
   "execution_count": 134,
   "id": "8562db1b",
   "metadata": {},
   "outputs": [
    {
     "name": "stdout",
     "output_type": "stream",
     "text": [
      "Epoch:  0 Loss:  24.434871450066566\n",
      "Epoch:  1 Loss:  15.089781299233437\n",
      "Epoch:  2 Loss:  11.201039550825953\n",
      "Epoch:  3 Loss:  10.36196797247976\n",
      "Epoch:  4 Loss:  9.507490417454392\n",
      "Epoch:  5 Loss:  7.193172138708178\n",
      "Epoch:  6 Loss:  6.83811842148134\n",
      "Epoch:  7 Loss:  5.679202409184654\n",
      "Epoch:  8 Loss:  4.972137756689335\n",
      "Epoch:  9 Loss:  5.105400752199785\n",
      "Epoch:  10 Loss:  3.9298239498184557\n",
      "Epoch:  11 Loss:  5.274235398188466\n",
      "Epoch:  12 Loss:  3.6648990573594347\n",
      "Epoch:  13 Loss:  3.4378701777727656\n",
      "Epoch:  14 Loss:  3.2061065720674833\n",
      "Epoch:  15 Loss:  3.1407711288380824\n",
      "Epoch:  16 Loss:  3.3847959222882764\n",
      "Epoch:  17 Loss:  4.324761222599491\n",
      "Epoch:  18 Loss:  2.630813518768953\n",
      "Epoch:  19 Loss:  2.556002399362767\n",
      "Epoch:  20 Loss:  1.5434157664371921\n",
      "Epoch:  21 Loss:  2.1688229305387834\n",
      "Epoch:  22 Loss:  1.8419674584691772\n",
      "Epoch:  23 Loss:  1.4931635618917054\n",
      "Epoch:  24 Loss:  1.5868712594120884\n"
     ]
    }
   ],
   "source": [
    "# Run the fourth model with 25 epochs, and 32 bach size\n",
    "tot_loss4, nlp4 =  nn_spacy(25, 32, train_data)"
   ]
  },
  {
   "cell_type": "code",
   "execution_count": 135,
   "id": "ec3958a4",
   "metadata": {},
   "outputs": [
    {
     "data": {
      "text/plain": [
       "[<matplotlib.lines.Line2D at 0x2212ba21880>]"
      ]
     },
     "execution_count": 135,
     "metadata": {},
     "output_type": "execute_result"
    },
    {
     "data": {
      "image/png": "[encoded data removed]",
      "text/plain": [
       "<Figure size 640x480 with 1 Axes>"
      ]
     },
     "metadata": {},
     "output_type": "display_data"
    }
   ],
   "source": [
    "# Display a graph of the loss of the fourth model\n",
    "\n",
    "# https://www.w3schools.com/python/matplotlib_plotting.asp\n",
    "\n",
    "import matplotlib.pyplot as plt\n",
    "\n",
    "# 4 epochs\n",
    "epochs = [i for i in range(25)]\n",
    "\n",
    "plt.plot(epochs, tot_loss4)"
   ]
  },
  {
   "cell_type": "code",
   "execution_count": 136,
   "id": "c4a97c8a",
   "metadata": {},
   "outputs": [
    {
     "name": "stdout",
     "output_type": "stream",
     "text": [
      "0.827\n"
     ]
    }
   ],
   "source": [
    "# Display the accuracy of the fourth model\n",
    "\n",
    "accuracy4 = predict_and_evaluate(nlp4, test_data)\n",
    "print(accuracy4)"
   ]
  },
  {
   "cell_type": "code",
   "execution_count": null,
   "id": "39e2fffb",
   "metadata": {},
   "outputs": [],
   "source": [
    "# Next I will use BERT to classify the text and compare the accuracy.\n",
    "\n",
    "# The majority of the code is going to come from: https://www.tensorflow.org/text/tutorials/classify_text_with_bert\n",
    "\n",
    "# It will be fit to my dataset and problem."
   ]
  }
 ],
 "metadata": {
  "kernelspec": {
   "display_name": "Python 3 (ipykernel)",
   "language": "python",
   "name": "python3"
  },
  "language_info": {
   "codemirror_mode": {
    "name": "ipython",
    "version": 3
   },
   "file_extension": ".py",
   "mimetype": "text/x-python",
   "name": "python",
   "nbconvert_exporter": "python",
   "pygments_lexer": "ipython3",
   "version": "3.12.3"
  }
 },
 "nbformat": 4,
 "nbformat_minor": 5
}
